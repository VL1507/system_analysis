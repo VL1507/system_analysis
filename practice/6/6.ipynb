{
 "cells": [
  {
   "cell_type": "markdown",
   "id": "df04c0d7",
   "metadata": {},
   "source": [
    "# Вычислительный эксперимент\n"
   ]
  },
  {
   "cell_type": "markdown",
   "id": "46ca0625",
   "metadata": {},
   "source": [
    "## Пример 1\n"
   ]
  },
  {
   "cell_type": "code",
   "execution_count": 44,
   "id": "4e61446d",
   "metadata": {},
   "outputs": [],
   "source": [
    "import numpy as np\n",
    "import networkx as nx"
   ]
  },
  {
   "cell_type": "code",
   "execution_count": 45,
   "id": "3e020d38",
   "metadata": {},
   "outputs": [],
   "source": [
    "num_simulations = 10**6"
   ]
  },
  {
   "cell_type": "code",
   "execution_count": 46,
   "id": "da2c8314",
   "metadata": {},
   "outputs": [],
   "source": [
    "D_1, D_2, D_3, D_4 = 2, 3, 4, 5\n",
    "C_1, C_2, C_3, C_4 = 4, 7, 8, 12\n"
   ]
  },
  {
   "cell_type": "code",
   "execution_count": 47,
   "id": "dde57fd0",
   "metadata": {},
   "outputs": [],
   "source": [
    "h = 0.05"
   ]
  },
  {
   "cell_type": "code",
   "execution_count": 48,
   "id": "da8bb172",
   "metadata": {},
   "outputs": [
    {
     "data": {
      "text/plain": [
       "(0.010000000000000002,\n",
       " 0.0008750000000000002,\n",
       " 5.000000000000001e-05,\n",
       " 3.750000000000001e-06)"
      ]
     },
     "execution_count": 48,
     "metadata": {},
     "output_type": "execute_result"
    }
   ],
   "source": [
    "P_G_1, P_G_2, P_G_3, P_G_4 = 4 * h**2, 7 * h**3, 8 * h**4, 12 * h**5\n",
    "P_G_1, P_G_2, P_G_3, P_G_4"
   ]
  },
  {
   "cell_type": "code",
   "execution_count": 49,
   "id": "c949067b",
   "metadata": {},
   "outputs": [],
   "source": [
    "# Создаем графы\n",
    "graphs = {\n",
    "    # \"G1\": nx.Graph([(0, 1), (1, 2), (2, 3), (3, 0), (0, 2)]),\n",
    "    # \"G2\": nx.Graph([(0, 1), (1, 2), (2, 0), (0, 3), (1, 3), (2, 3)]),\n",
    "    \"G2\": nx.Graph(\n",
    "        [(1, 2), (1, 3), (1, 6), (2, 4), (2, 5), (3, 6), (3, 4), (5, 6), (4, 5)]\n",
    "    ),\n",
    "    # \"G3\": nx.Graph([(0, 1), (1, 2), (2, 3), (3, 0), (0, 2), (1, 3)]),\n",
    "    # \"G4\": nx.Graph(\n",
    "    #     [(0, 1), (1, 2), (2, 3), (3, 4), (4, 0), (0, 2), (1, 3), (0, 3)]\n",
    "    # ),\n",
    "}\n"
   ]
  },
  {
   "cell_type": "code",
   "execution_count": 50,
   "id": "d9258ddd",
   "metadata": {},
   "outputs": [],
   "source": [
    "D_values = {\"G1\": 2, \"G2\": 3, \"G3\": 4, \"G4\": 5}\n",
    "\n",
    "C_values = {\"G1\": 4, \"G2\": 7, \"G3\": 8, \"G4\": 12}\n"
   ]
  },
  {
   "cell_type": "code",
   "execution_count": 51,
   "id": "6ea22411",
   "metadata": {},
   "outputs": [],
   "source": [
    "def monte_carlo_simulation(\n",
    "    graph: nx.Graph, D: int, C: int, h: float, num_simulations: int = 10**6\n",
    ") -> float:\n",
    "    disconnection_count = 0\n",
    "    for _ in range(num_simulations):\n",
    "        failed_edges = [edge for edge in graph.edges() if np.random.random() < h]\n",
    "        temp_graph = graph.copy()\n",
    "        temp_graph.remove_edges_from(failed_edges)\n",
    "        if not nx.is_connected(temp_graph):\n",
    "            disconnection_count += 1\n",
    "    disconnection_probability = disconnection_count / num_simulations\n",
    "    # return disconnection_probability * C\n",
    "    return disconnection_probability\n"
   ]
  },
  {
   "cell_type": "code",
   "execution_count": 52,
   "id": "7d4c63fb",
   "metadata": {},
   "outputs": [
    {
     "name": "stdout",
     "output_type": "stream",
     "text": [
      "Граф G2:\n",
      "\tP:       \t 0.000875\n",
      "\tP*:      \t 0.000894\n",
      "\t|P*/P-1|:\t 0.021714285714285575\n"
     ]
    }
   ],
   "source": [
    "P_star = {\n",
    "    graph: monte_carlo_simulation(\n",
    "        graphs[graph], D_values[graph], C_values[graph], h, num_simulations\n",
    "    )\n",
    "    for graph in graphs\n",
    "}\n",
    "\n",
    "P = {\"G1\": P_G_1, \"G2\": P_G_2, \"G3\": P_G_3, \"G4\": P_G_4}\n",
    "\n",
    "for graph in P_star:\n",
    "    print(f\"Граф {graph}:\")\n",
    "    print(\"\\tP:       \\t\", f\"{P[graph]:.6f}\")\n",
    "    print(\"\\tP*:      \\t\", f\"{P_star[graph]:.6f}\")\n",
    "    print(\"\\t|P*/P-1|:\\t\", abs(P_star[graph] / P[graph] - 1))\n"
   ]
  }
 ],
 "metadata": {
  "kernelspec": {
   "display_name": ".venv",
   "language": "python",
   "name": "python3"
  },
  "language_info": {
   "codemirror_mode": {
    "name": "ipython",
    "version": 3
   },
   "file_extension": ".py",
   "mimetype": "text/x-python",
   "name": "python",
   "nbconvert_exporter": "python",
   "pygments_lexer": "ipython3",
   "version": "3.10.8"
  }
 },
 "nbformat": 4,
 "nbformat_minor": 5
}
