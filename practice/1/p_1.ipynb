{
 "cells": [
  {
   "cell_type": "markdown",
   "metadata": {},
   "source": [
    "Практика 1\n"
   ]
  },
  {
   "cell_type": "code",
   "execution_count": 10,
   "metadata": {},
   "outputs": [],
   "source": [
    "delta = 0.1\n",
    "p = 0.7\n",
    "m_start = 1\n",
    "m_end = 15"
   ]
  },
  {
   "cell_type": "code",
   "execution_count": 6,
   "metadata": {},
   "outputs": [],
   "source": [
    "def P_up_n(p: float, m: float, n: float) -> float:\n",
    "    return 1 - (1 - p**m) ** n\n",
    "\n",
    "\n",
    "def n_up_star(m: int, delta: float, p: float) -> float:\n",
    "    return min(n for n in range(1, 500) if P_up_n(p, m, n) >= 1 - delta)"
   ]
  },
  {
   "cell_type": "code",
   "execution_count": 7,
   "metadata": {},
   "outputs": [],
   "source": [
    "def P_down_n(p: float, m: float, n: float) -> float:\n",
    "    return (1 - (1 - p) ** n) ** m\n",
    "\n",
    "\n",
    "def n_down_star(m: int, delta: float, p: float) -> float:\n",
    "    return min(n for n in range(1, 500) if P_down_n(p, m, n) >= 1 - delta)"
   ]
  },
  {
   "cell_type": "code",
   "execution_count": 8,
   "metadata": {},
   "outputs": [],
   "source": [
    "def get_all(m_start: int, m_end: int, delta: float, p: float, func) -> list[float]:\n",
    "    return [func(m, delta, p) for m in range(m_start, m_end + 1)]"
   ]
  },
  {
   "cell_type": "code",
   "execution_count": 11,
   "metadata": {},
   "outputs": [
    {
     "name": "stdout",
     "output_type": "stream",
     "text": [
      "n_up_star [2, 4, 6, 9, 13, 19, 27, 39, 56, 81, 116, 166, 237, 339, 484]\n",
      "n_down_star [2, 3, 3, 4, 4, 4, 4, 4, 4, 4, 4, 4, 5, 5, 5]\n"
     ]
    }
   ],
   "source": [
    "all_n_up_star = get_all(m_start, m_end, delta, p, n_up_star)\n",
    "print(\"n_up_star\", all_n_up_star)\n",
    "\n",
    "all_n_down_star = get_all(m_start, m_end, delta, p, n_down_star)\n",
    "print(\"n_down_star\", all_n_down_star)"
   ]
  }
 ],
 "metadata": {
  "kernelspec": {
   "display_name": ".venv",
   "language": "python",
   "name": "python3"
  },
  "language_info": {
   "codemirror_mode": {
    "name": "ipython",
    "version": 3
   },
   "file_extension": ".py",
   "mimetype": "text/x-python",
   "name": "python",
   "nbconvert_exporter": "python",
   "pygments_lexer": "ipython3",
   "version": "3.10.8"
  }
 },
 "nbformat": 4,
 "nbformat_minor": 2
}
