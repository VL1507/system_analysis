{
 "cells": [
  {
   "cell_type": "code",
   "execution_count": 40,
   "metadata": {},
   "outputs": [],
   "source": [
    "import matplotlib.pyplot as plt\n",
    "import numpy as np\n",
    "from typing import Final"
   ]
  },
  {
   "cell_type": "code",
   "execution_count": 41,
   "metadata": {},
   "outputs": [],
   "source": [
    "ro = 1"
   ]
  },
  {
   "cell_type": "code",
   "execution_count": 42,
   "metadata": {},
   "outputs": [],
   "source": [
    "def P_n(ro: float, n: int) -> float:\n",
    "    res = 0\n",
    "\n",
    "    for k in range(0, n + 1):\n",
    "        q = ro**-k\n",
    "\n",
    "        for j in range(0, k - 1 + 1):\n",
    "            q *= 1 - j / n\n",
    "\n",
    "        res += q\n",
    "    return res**-1"
   ]
  },
  {
   "cell_type": "code",
   "execution_count": 43,
   "metadata": {},
   "outputs": [
    {
     "name": "stdout",
     "output_type": "stream",
     "text": [
      "P_n(1)\t\tP_n(0.9)\t(2 / (np.pi * n)) ** 0.5\t\n",
      "0.50000\t\t0.47368\t\t0.79788\n",
      "0.40000\t\t0.36652\t\t0.56419\n",
      "0.34615\t\t0.30874\t\t0.46066\n",
      "0.31068\t\t0.27069\t\t0.39894\n",
      "0.28487\t\t0.24302\t\t0.35682\n",
      "0.26492\t\t0.22167\t\t0.32574\n",
      "0.24887\t\t0.20451\t\t0.30157\n",
      "0.23557\t\t0.19031\t\t0.28209\n",
      "0.22430\t\t0.17830\t\t0.26596\n",
      "0.21458\t\t0.16796\t\t0.25231\n",
      "0.20608\t\t0.15894\t\t0.24057\n",
      "0.19857\t\t0.15097\t\t0.23033\n",
      "0.19185\t\t0.14386\t\t0.22129\n",
      "0.18580\t\t0.13747\t\t0.21324\n",
      "0.18032\t\t0.13168\t\t0.20601\n",
      "0.17531\t\t0.12641\t\t0.19947\n",
      "0.17071\t\t0.12158\t\t0.19352\n",
      "0.16647\t\t0.11714\t\t0.18806\n",
      "0.16254\t\t0.11303\t\t0.18305\n",
      "0.15889\t\t0.10921\t\t0.17841\n",
      "0.15548\t\t0.10566\t\t0.17411\n",
      "0.15230\t\t0.10234\t\t0.17011\n",
      "0.14930\t\t0.09923\t\t0.16637\n",
      "0.14648\t\t0.09631\t\t0.16287\n",
      "0.14382\t\t0.09356\t\t0.15958\n",
      "0.14131\t\t0.09097\t\t0.15648\n",
      "0.13893\t\t0.08851\t\t0.15355\n",
      "0.13666\t\t0.08619\t\t0.15079\n",
      "0.13451\t\t0.08398\t\t0.14816\n",
      "0.13246\t\t0.08188\t\t0.14567\n"
     ]
    }
   ],
   "source": [
    "print(\"P_n(1)\\t\\tP_n(0.9)\\t(2 / (np.pi * n)) ** 0.5\\t\")\n",
    "\n",
    "for n in range(1, 30 + 1):\n",
    "    print(f\"{P_n(ro, n):.5f}\\t\\t{P_n(0.9, n):.5f}\\t\\t{(2 / (np.pi * n)) ** 0.5:.5f}\")\n"
   ]
  },
  {
   "cell_type": "code",
   "execution_count": null,
   "metadata": {},
   "outputs": [],
   "source": []
  }
 ],
 "metadata": {
  "kernelspec": {
   "display_name": ".venv",
   "language": "python",
   "name": "python3"
  },
  "language_info": {
   "codemirror_mode": {
    "name": "ipython",
    "version": 3
   },
   "file_extension": ".py",
   "mimetype": "text/x-python",
   "name": "python",
   "nbconvert_exporter": "python",
   "pygments_lexer": "ipython3",
   "version": "3.10.8"
  }
 },
 "nbformat": 4,
 "nbformat_minor": 2
}
