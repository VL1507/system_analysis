{
 "cells": [
  {
   "cell_type": "code",
   "execution_count": 78,
   "id": "f6f8b18c",
   "metadata": {},
   "outputs": [],
   "source": [
    "from typing import Literal\n",
    "from treelib.tree import Tree\n"
   ]
  },
  {
   "cell_type": "code",
   "execution_count": 79,
   "id": "6e1dfb7c",
   "metadata": {},
   "outputs": [],
   "source": [
    "class ValueNode:\n",
    "    left = None\n",
    "    right = None\n",
    "\n",
    "    def __init__(self, value: float) -> None:\n",
    "        self.value = value\n",
    "\n",
    "    def __repr__(self) -> str:\n",
    "        return f\"TreeNode({self.value})\""
   ]
  },
  {
   "cell_type": "code",
   "execution_count": 80,
   "id": "f66e8977",
   "metadata": {},
   "outputs": [],
   "source": [
    "class OperationNode:\n",
    "    left = None\n",
    "    right = None\n",
    "\n",
    "    def __init__(self, operation: Literal[\"∧\", \"∨\"]) -> None:\n",
    "        self.operation = operation\n",
    "\n",
    "    def __repr__(self) -> str:\n",
    "        return f\"TreeNode({self.operation})\""
   ]
  },
  {
   "cell_type": "code",
   "execution_count": 81,
   "id": "f156b0d0",
   "metadata": {},
   "outputs": [],
   "source": [
    "def calculate_reliability(node: OperationNode | ValueNode | None) -> float:\n",
    "    if node is None:\n",
    "        return 0\n",
    "\n",
    "    if isinstance(node, ValueNode):\n",
    "        # print(node.value)\n",
    "        return node.value\n",
    "\n",
    "    left_value = calculate_reliability(node.left)\n",
    "    right_value = calculate_reliability(node.right)\n",
    "\n",
    "    if node.operation == \"∧\":\n",
    "        # print(f\"{left_value} ∧ {right_value} = {left_value * right_value}\")\n",
    "        return left_value * right_value\n",
    "\n",
    "    elif node.operation == \"∨\":\n",
    "        # print(\n",
    "        #     f\"{left_value} ∧ {right_value} = {left_value + right_value - left_value * right_value}\"\n",
    "        # )\n",
    "        return left_value + right_value - left_value * right_value\n",
    "\n",
    "    else:\n",
    "        raise ValueError(f\"Неизвестная операция: {node}\")"
   ]
  },
  {
   "cell_type": "code",
   "execution_count": 82,
   "id": "d8304008",
   "metadata": {},
   "outputs": [],
   "source": [
    "def visualize_tree(root: OperationNode) -> None:\n",
    "    tree = Tree()\n",
    "    tree.create_node(str(root), str(id(root)))\n",
    "\n",
    "    def add_nodes(node: ValueNode | OperationNode) -> None:\n",
    "        if node.left is not None:\n",
    "            tree.create_node(str(node.left), str(id(node.left)), parent=str(id(node)))\n",
    "            add_nodes(node.left)\n",
    "\n",
    "        if node.right is not None:\n",
    "            tree.create_node(str(node.right), str(id(node.right)), parent=str(id(node)))\n",
    "            add_nodes(node.right)\n",
    "\n",
    "    add_nodes(root)\n",
    "    tree.show()"
   ]
  },
  {
   "cell_type": "code",
   "execution_count": 83,
   "id": "a917cb7e",
   "metadata": {},
   "outputs": [],
   "source": [
    "x_1 = ValueNode(0.9)\n",
    "x_2 = ValueNode(0.8)\n",
    "x_3 = ValueNode(0.7)\n",
    "x_4 = ValueNode(0.6)\n",
    "x_5 = ValueNode(0.5)\n",
    "\n",
    "op_4 = OperationNode(\"∨\")\n",
    "op_4.left = x_1\n",
    "op_4.right = x_2\n",
    "\n",
    "op_3 = OperationNode(\"∧\")\n",
    "op_3.left = op_4\n",
    "op_3.right = x_3\n",
    "\n",
    "op_2 = OperationNode(\"∨\")\n",
    "op_2.left = x_4\n",
    "op_2.right = x_5\n",
    "\n",
    "op_1 = OperationNode(\"∧\")\n",
    "op_1.left = op_3\n",
    "op_1.right = op_2\n"
   ]
  },
  {
   "cell_type": "code",
   "execution_count": 84,
   "id": "b8de8b22",
   "metadata": {},
   "outputs": [
    {
     "name": "stdout",
     "output_type": "stream",
     "text": [
      "Надежность системы: 0.5488000000000001\n"
     ]
    }
   ],
   "source": [
    "reliability = calculate_reliability(op_1)\n",
    "print(f\"Надежность системы: {reliability}\")\n"
   ]
  },
  {
   "cell_type": "code",
   "execution_count": 85,
   "id": "424304ef",
   "metadata": {},
   "outputs": [
    {
     "name": "stdout",
     "output_type": "stream",
     "text": [
      "TreeNode(∧)\n",
      "├── TreeNode(∧)\n",
      "│   ├── TreeNode(0.7)\n",
      "│   └── TreeNode(∨)\n",
      "│       ├── TreeNode(0.8)\n",
      "│       └── TreeNode(0.9)\n",
      "└── TreeNode(∨)\n",
      "    ├── TreeNode(0.5)\n",
      "    └── TreeNode(0.6)\n",
      "\n"
     ]
    }
   ],
   "source": [
    "visualize_tree(op_1)"
   ]
  }
 ],
 "metadata": {
  "kernelspec": {
   "display_name": ".venv",
   "language": "python",
   "name": "python3"
  },
  "language_info": {
   "codemirror_mode": {
    "name": "ipython",
    "version": 3
   },
   "file_extension": ".py",
   "mimetype": "text/x-python",
   "name": "python",
   "nbconvert_exporter": "python",
   "pygments_lexer": "ipython3",
   "version": "3.10.8"
  }
 },
 "nbformat": 4,
 "nbformat_minor": 5
}
