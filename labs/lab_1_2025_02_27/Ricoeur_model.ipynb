{
 "cells": [
  {
   "cell_type": "code",
   "execution_count": 1,
   "metadata": {},
   "outputs": [],
   "source": [
    "import matplotlib.pyplot as plt\n",
    "import numpy as np\n",
    "from typing import Final\n"
   ]
  },
  {
   "cell_type": "code",
   "execution_count": 2,
   "metadata": {},
   "outputs": [],
   "source": [
    "num_experiments: Final[int] = 100\n",
    "bins: Final[int] = 5"
   ]
  },
  {
   "cell_type": "markdown",
   "metadata": {},
   "source": [
    "Модель Рикера\n"
   ]
  },
  {
   "cell_type": "code",
   "execution_count": 3,
   "metadata": {},
   "outputs": [],
   "source": [
    "a: Final[int] = 300\n",
    "b: Final[int] = 1\n",
    "n: Final[int] = 1000\n",
    "c: Final[float] = 1 / 48\n",
    "x_0: Final[float] = 1.01"
   ]
  },
  {
   "cell_type": "code",
   "execution_count": 4,
   "metadata": {},
   "outputs": [],
   "source": [
    "x = np.zeros(n)\n",
    "x[0] = x_0\n",
    "for i in range(1, n):\n",
    "    x[i] = a * x[i - 1] * np.exp(-b * x[i - 1])\n",
    "\n",
    "assert np.all(x <= a / (b * np.e))\n"
   ]
  },
  {
   "cell_type": "code",
   "execution_count": 5,
   "metadata": {},
   "outputs": [],
   "source": [
    "x_ln = np.zeros(n)\n",
    "x_ln[0] = np.log(x[0])\n",
    "for i in range(1, n):\n",
    "    x_ln[i] = x_ln[i - 1] + np.log(a) - b * x[i - 1]"
   ]
  },
  {
   "cell_type": "code",
   "execution_count": 6,
   "metadata": {},
   "outputs": [],
   "source": [
    "b_list = np.zeros(num_experiments)\n",
    "a_list = np.zeros(num_experiments)\n",
    "\n",
    "\n",
    "for i in range(num_experiments):\n",
    "    epsilon = np.random.normal(loc=0, scale=np.sqrt(c), size=n)\n",
    "    # epsilon.sort()\n",
    "\n",
    "    y = x * np.exp(epsilon)\n",
    "\n",
    "    b_line = (\n",
    "        2\n",
    "        * np.exp(c / 2)\n",
    "        * ((y * np.log(y)).mean() - c * y.mean() - y.mean() * np.log(y).mean())\n",
    "        / ((y**2).mean() * np.exp(-c) - y.mean() ** 2)\n",
    "    )\n",
    "    b_list[i] = b_line\n",
    "\n",
    "    a_line = np.exp(b_line * y.mean() * np.exp(-c / 2))\n",
    "\n",
    "    a_list[i] = a_line\n"
   ]
  },
  {
   "cell_type": "code",
   "execution_count": 7,
   "metadata": {},
   "outputs": [],
   "source": [
    "def show_graf_table(lst, bins: int, color: str = \"lime\") -> None:\n",
    "    plt.hist(lst, bins=bins, edgecolor=\"black\", color=color)\n",
    "    # plt.title(\"Гистограмма частот для оценки параметра delta_h\")\n",
    "    # plt.xlabel(\"Оценка параметра delta_h\")\n",
    "    # plt.ylabel(\"Частота\")\n",
    "    plt.grid(True)\n",
    "    plt.show()\n",
    "\n",
    "    hist, bin_edges = np.histogram(lst, bins=bins)\n",
    "\n",
    "    print(\"Интервал\\t\\tЧастота\")\n",
    "    for i in range(bins):\n",
    "        print(f\"[{bin_edges[i]:.4f}, {bin_edges[i + 1]:.4f})\\t{hist[i]}\")"
   ]
  },
  {
   "cell_type": "code",
   "execution_count": 8,
   "metadata": {},
   "outputs": [
    {
     "name": "stdout",
     "output_type": "stream",
     "text": [
      "a\n"
     ]
    },
    {
     "data": {
      "image/png": "[encoded data removed]",
      "text/plain": [
       "<Figure size 640x480 with 1 Axes>"
      ]
     },
     "metadata": {},
     "output_type": "display_data"
    },
    {
     "name": "stdout",
     "output_type": "stream",
     "text": [
      "Интервал\t\tЧастота\n",
      "[248.5583, 270.1743)\t4\n",
      "[270.1743, 291.7904)\t13\n",
      "[291.7904, 313.4064)\t44\n",
      "[313.4064, 335.0224)\t27\n",
      "[335.0224, 356.6384)\t12\n",
      "\n",
      "\n",
      "b\n"
     ]
    },
    {
     "data": {
      "image/png": "[encoded data removed]",
      "text/plain": [
       "<Figure size 640x480 with 1 Axes>"
      ]
     },
     "metadata": {},
     "output_type": "display_data"
    },
    {
     "name": "stdout",
     "output_type": "stream",
     "text": [
      "Интервал\t\tЧастота\n",
      "[0.9244, 0.9522)\t1\n",
      "[0.9522, 0.9800)\t15\n",
      "[0.9800, 1.0078)\t43\n",
      "[1.0078, 1.0356)\t32\n",
      "[1.0356, 1.0634)\t9\n"
     ]
    }
   ],
   "source": [
    "print(\"a\")\n",
    "show_graf_table(a_list, bins, \"pink\")\n",
    "\n",
    "print(\"\\n\\nb\")\n",
    "show_graf_table(b_list, bins, \"lime\")\n"
   ]
  }
 ],
 "metadata": {
  "kernelspec": {
   "display_name": ".venv",
   "language": "python",
   "name": "python3"
  },
  "language_info": {
   "codemirror_mode": {
    "name": "ipython",
    "version": 3
   },
   "file_extension": ".py",
   "mimetype": "text/x-python",
   "name": "python",
   "nbconvert_exporter": "python",
   "pygments_lexer": "ipython3",
   "version": "3.10.8"
  }
 },
 "nbformat": 4,
 "nbformat_minor": 2
}
