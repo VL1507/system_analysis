{
 "cells": [
  {
   "cell_type": "code",
   "execution_count": 1,
   "metadata": {},
   "outputs": [],
   "source": [
    "import numpy as np\n",
    "from typing import Final"
   ]
  },
  {
   "cell_type": "code",
   "execution_count": 2,
   "metadata": {},
   "outputs": [],
   "source": [
    "# from tqdm.autonotebook import tqdm\n",
    "from tqdm.notebook import tqdm"
   ]
  },
  {
   "cell_type": "code",
   "execution_count": 3,
   "metadata": {},
   "outputs": [],
   "source": [
    "num_experiments: Final[int] = 1000\n",
    "bins: Final[int] = 5"
   ]
  },
  {
   "cell_type": "code",
   "execution_count": 4,
   "metadata": {},
   "outputs": [],
   "source": [
    "beta_0: Final[float] = 0.5\n",
    "x_0: Final[float] = 1\n",
    "\n",
    "n: Final[int] = 1000\n",
    "\n",
    "h: Final[float] = n ** (-5 / 4)\n"
   ]
  },
  {
   "cell_type": "code",
   "execution_count": 11,
   "metadata": {},
   "outputs": [],
   "source": [
    "k = np.array([k for k in range(-n, n + 1)])"
   ]
  },
  {
   "cell_type": "code",
   "execution_count": 9,
   "metadata": {},
   "outputs": [
    {
     "data": {
      "application/vnd.jupyter.widget-view+json": {
       "model_id": "a58f57efd5b644a9a09048e2eb239ea4",
       "version_major": 2,
       "version_minor": 0
      },
      "text/plain": [
       "  0%|          | 0/1000 [00:00<?, ?it/s]"
      ]
     },
     "metadata": {},
     "output_type": "display_data"
    }
   ],
   "source": [
    "beta_list = np.zeros(num_experiments)\n",
    "\n",
    "for i in tqdm(range(num_experiments)):\n",
    "    epsilon = np.random.uniform(low=-1 / 2, high=1 / 2, size=2 * n + 1)\n",
    "\n",
    "    y_k = np.exp(beta_0 * h * k) + epsilon\n",
    "\n",
    "    x_0_line = y_k.sum() / (2 * n + 1)\n",
    "\n",
    "    F_0_line = (y_k * k * h).sum() / ((k * h) ** 2).sum()\n",
    "\n",
    "    beta_0_line = F_0_line / x_0_line\n",
    "\n",
    "    beta_list[i] = beta_0_line\n"
   ]
  },
  {
   "cell_type": "code",
   "execution_count": 7,
   "metadata": {},
   "outputs": [
    {
     "name": "stdout",
     "output_type": "stream",
     "text": [
      "Интервал\t\tОтнос. частота\n",
      "[0.2641, 0.3518)\t0.012\n",
      "[0.3518, 0.4395)\t0.16\n",
      "[0.4395, 0.5271)\t0.48\n",
      "[0.5271, 0.6148)\t0.32\n",
      "[0.6148, 0.7025)\t0.028\n"
     ]
    }
   ],
   "source": [
    "hist, bin_edges = np.histogram(beta_list, bins=bins)\n",
    "\n",
    "print(\"Интервал\\t\\tОтнос. частота\")\n",
    "for i in range(bins):\n",
    "    print(f\"[{bin_edges[i]:.4f}, {bin_edges[i + 1]:.4f})\\t{hist[i] / num_experiments}\")"
   ]
  }
 ],
 "metadata": {
  "kernelspec": {
   "display_name": ".venv",
   "language": "python",
   "name": "python3"
  },
  "language_info": {
   "codemirror_mode": {
    "name": "ipython",
    "version": 3
   },
   "file_extension": ".py",
   "mimetype": "text/x-python",
   "name": "python",
   "nbconvert_exporter": "python",
   "pygments_lexer": "ipython3",
   "version": "3.10.8"
  }
 },
 "nbformat": 4,
 "nbformat_minor": 2
}
