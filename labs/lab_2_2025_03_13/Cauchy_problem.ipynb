{
 "cells": [
  {
   "cell_type": "code",
   "execution_count": null,
   "metadata": {},
   "outputs": [],
   "source": [
    "import matplotlib.pyplot as plt\n",
    "import numpy as np\n",
    "from typing import Final"
   ]
  },
  {
   "cell_type": "code",
   "execution_count": null,
   "metadata": {},
   "outputs": [],
   "source": [
    "num_experiments: Final[int] = 100\n",
    "bins: Final[int] = 5"
   ]
  },
  {
   "cell_type": "code",
   "execution_count": null,
   "metadata": {},
   "outputs": [],
   "source": []
  },
  {
   "cell_type": "code",
   "execution_count": null,
   "metadata": {},
   "outputs": [],
   "source": []
  },
  {
   "cell_type": "code",
   "execution_count": null,
   "metadata": {},
   "outputs": [],
   "source": [
    "# plt.hist(b_list, bins=bins, edgecolor=\"black\", color=\"lime\")\n",
    "# plt.title(\"Гистограмма частот для оценки параметра b\")\n",
    "# plt.xlabel(\"Оценка параметра b\")\n",
    "# plt.ylabel(\"Частота\")\n",
    "# plt.grid(True)\n",
    "# plt.show()\n",
    "\n",
    "\n",
    "# hist, bin_edges = np.histogram(b_list, bins=bins)\n",
    "\n",
    "# print(\"Интервал\\t\\tЧастота\")\n",
    "# for i in range(bins):\n",
    "#     print(f\"[{bin_edges[i]:.4f}, {bin_edges[i + 1]:.4f})\\t{hist[i]}\")"
   ]
  }
 ],
 "metadata": {
  "language_info": {
   "name": "python"
  }
 },
 "nbformat": 4,
 "nbformat_minor": 2
}
