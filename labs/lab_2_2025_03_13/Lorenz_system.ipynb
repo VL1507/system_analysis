{
 "cells": [
  {
   "cell_type": "code",
   "execution_count": 1,
   "metadata": {},
   "outputs": [],
   "source": [
    "import numpy as np\n",
    "from typing import Final\n",
    "from tqdm.notebook import tqdm"
   ]
  },
  {
   "cell_type": "code",
   "execution_count": 2,
   "metadata": {},
   "outputs": [],
   "source": [
    "num_experiments: Final[int] = 1000\n",
    "bins: Final[int] = 5"
   ]
  },
  {
   "cell_type": "code",
   "execution_count": 3,
   "metadata": {},
   "outputs": [],
   "source": [
    "x_0: Final[float] = 1\n",
    "y_0: Final[float] = 1\n",
    "z_0: Final[float] = 1\n",
    "\n",
    "sigma_0 = 1\n",
    "r_0 = 2\n",
    "b_0 = 3\n",
    "\n",
    "n: Final[int] = 1000\n",
    "\n",
    "h: Final[float] = n ** (-5 / 4)"
   ]
  },
  {
   "cell_type": "code",
   "execution_count": 4,
   "metadata": {},
   "outputs": [],
   "source": [
    "k = np.array([k for k in range(-n, n + 1)])"
   ]
  },
  {
   "cell_type": "code",
   "execution_count": 5,
   "metadata": {},
   "outputs": [
    {
     "data": {
      "application/vnd.jupyter.widget-view+json": {
       "model_id": "b290b5bcea1143adbd9aca6e298f9f17",
       "version_major": 2,
       "version_minor": 0
      },
      "text/plain": [
       "  0%|          | 0/1000 [00:00<?, ?it/s]"
      ]
     },
     "metadata": {},
     "output_type": "display_data"
    }
   ],
   "source": [
    "sigma_list = np.zeros(num_experiments)\n",
    "r_list = np.zeros(num_experiments)\n",
    "b_list = np.zeros(num_experiments)\n",
    "\n",
    "for i in tqdm(range(num_experiments)):\n",
    "    epsilon_1 = np.random.uniform(low=-1 / 2, high=1 / 2, size=2 * n + 1)\n",
    "\n",
    "    y_k_1 = np.exp(sigma_0 * h * k) + epsilon_1\n",
    "    x_0_line_1 = (y_k_1).sum() / (2 * n + 1)\n",
    "    F_0_line_1 = (y_k_1 * k * h).sum() / ((k * h) ** 2).sum()\n",
    "\n",
    "    sigma_0_line = F_0_line_1 / x_0_line_1\n",
    "    sigma_list[i] = sigma_0_line\n",
    "    \"\"\"\n",
    "    ================\n",
    "    \"\"\"\n",
    "\n",
    "    epsilon_2 = np.random.uniform(low=-1 / 2, high=1 / 2, size=2 * n + 1)\n",
    "\n",
    "    y_k_2 = np.exp(r_0 * h * k) + epsilon_2\n",
    "    x_0_line_2 = (y_k_2).sum() / (2 * n + 1)\n",
    "    F_0_line_2 = (y_k_2 * k * h).sum() / ((k * h) ** 2).sum()\n",
    "\n",
    "    r_0_line = F_0_line_2 / x_0_line_2\n",
    "    r_list[i] = r_0_line\n",
    "    \"\"\"\n",
    "    ================\n",
    "    \"\"\"\n",
    "\n",
    "    epsilon_3 = np.random.uniform(low=-1 / 2, high=1 / 2, size=2 * n + 1)\n",
    "\n",
    "    y_k_3 = np.exp(b_0 * h * k) + epsilon_3\n",
    "    x_0_line_3 = (y_k_3).sum() / (2 * n + 1)\n",
    "    F_0_line_3 = (y_k_3 * k * h).sum() / ((k * h) ** 2).sum()\n",
    "\n",
    "    b_0_line = F_0_line_3 / x_0_line_3\n",
    "    b_list[i] = b_0_line"
   ]
  },
  {
   "cell_type": "code",
   "execution_count": 6,
   "metadata": {},
   "outputs": [],
   "source": [
    "def show_table(lst: np.typing.ArrayLike, bins: int) -> None:\n",
    "    hist, bin_edges = np.histogram(lst, bins=bins)\n",
    "\n",
    "    print(\"Интервал\\t\\tОтнос. частота\")\n",
    "    for i in range(bins):\n",
    "        print(\n",
    "            f\"[{bin_edges[i]:.4f}, {bin_edges[i + 1]:.4f})\\t{hist[i] / num_experiments}\"\n",
    "        )"
   ]
  },
  {
   "cell_type": "code",
   "execution_count": 7,
   "metadata": {},
   "outputs": [
    {
     "name": "stdout",
     "output_type": "stream",
     "text": [
      "sigma σ\n",
      "Интервал\t\tОтнос. частота\n",
      "[0.7482, 0.8328)\t0.007\n",
      "[0.8328, 0.9174)\t0.093\n",
      "[0.9174, 1.0020)\t0.459\n",
      "[1.0020, 1.0866)\t0.371\n",
      "[1.0866, 1.1712)\t0.07\n",
      "\n",
      "\n",
      "r\n",
      "Интервал\t\tОтнос. частота\n",
      "[1.7973, 1.8730)\t0.045\n",
      "[1.8730, 1.9486)\t0.261\n",
      "[1.9486, 2.0243)\t0.425\n",
      "[2.0243, 2.0999)\t0.24\n",
      "[2.0999, 2.1756)\t0.029\n",
      "\n",
      "\n",
      "b\n",
      "Интервал\t\tОтнос. частота\n",
      "[2.7399, 2.8189)\t0.018\n",
      "[2.8189, 2.8978)\t0.215\n",
      "[2.8978, 2.9768)\t0.452\n",
      "[2.9768, 3.0558)\t0.274\n",
      "[3.0558, 3.1347)\t0.041\n"
     ]
    }
   ],
   "source": [
    "print(\"sigma σ\")\n",
    "show_table(sigma_list, bins)\n",
    "\n",
    "print(\"\\n\\nr\")\n",
    "show_table(r_list, bins)\n",
    "\n",
    "print(\"\\n\\nb\")\n",
    "show_table(b_list, bins)"
   ]
  }
 ],
 "metadata": {
  "kernelspec": {
   "display_name": ".venv",
   "language": "python",
   "name": "python3"
  },
  "language_info": {
   "codemirror_mode": {
    "name": "ipython",
    "version": 3
   },
   "file_extension": ".py",
   "mimetype": "text/x-python",
   "name": "python",
   "nbconvert_exporter": "python",
   "pygments_lexer": "ipython3",
   "version": "3.10.8"
  }
 },
 "nbformat": 4,
 "nbformat_minor": 2
}
