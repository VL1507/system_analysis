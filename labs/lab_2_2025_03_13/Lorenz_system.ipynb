{
 "cells": [
  {
   "cell_type": "code",
   "execution_count": 94,
   "metadata": {},
   "outputs": [],
   "source": [
    "import numpy as np\n",
    "from typing import Final"
   ]
  },
  {
   "cell_type": "code",
   "execution_count": 95,
   "metadata": {},
   "outputs": [],
   "source": [
    "num_experiments: Final[int] = 1000\n",
    "bins: Final[int] = 5"
   ]
  },
  {
   "cell_type": "code",
   "execution_count": 96,
   "metadata": {},
   "outputs": [],
   "source": [
    "x_0: Final[float] = 1\n",
    "y_0: Final[float] = 1\n",
    "z_0: Final[float] = 1\n",
    "\n",
    "sigma_0 = 1\n",
    "r_0 = 2\n",
    "b_0 = 3\n",
    "\n",
    "n: Final[int] = 1000\n",
    "\n",
    "h: Final[float] = n ** (-5 / 4)"
   ]
  },
  {
   "cell_type": "code",
   "execution_count": 97,
   "metadata": {},
   "outputs": [],
   "source": [
    "k = np.array([k for k in range(-n, n + 1)])"
   ]
  },
  {
   "cell_type": "code",
   "execution_count": null,
   "metadata": {},
   "outputs": [],
   "source": [
    "sigma_list = np.zeros(num_experiments)\n",
    "r_list = np.zeros(num_experiments)\n",
    "b_list = np.zeros(num_experiments)\n",
    "\n",
    "for i in range(num_experiments):\n",
    "    epsilon_1 = np.random.uniform(low=-1 / 2, high=1 / 2, size=2 * n + 1)\n",
    "\n",
    "    y_k_1 = np.exp(sigma_0 * h * k) + epsilon_1\n",
    "    x_0_line_1 = (y_k_1 * k * h).sum() / (2 * n + 1)\n",
    "    F_0_line_1 = (y_k_1 * k * h).sum() / ((k * h) ** 2).sum()\n",
    "\n",
    "    sigma_0_line = F_0_line_1 / x_0_line_1\n",
    "    sigma_list[i] = sigma_0_line\n",
    "    \"\"\"\n",
    "    ================\n",
    "    \"\"\"\n",
    "\n",
    "    epsilon_2 = np.random.uniform(low=-1 / 2, high=1 / 2, size=2 * n + 1)\n",
    "\n",
    "    y_k_2 = np.exp(r_0 * h * k) + epsilon_2\n",
    "    x_0_line_2 = (y_k_2 * k * h).sum() / (2 * n + 1)\n",
    "    F_0_line_2 = (y_k_2 * k * h).sum() / ((k * h) ** 2).sum()\n",
    "\n",
    "    r_0_line = F_0_line_2 / x_0_line_2\n",
    "    r_list[i] = r_0_line\n",
    "    \"\"\"\n",
    "    ================\n",
    "    \"\"\"\n",
    "\n",
    "    epsilon_3 = np.random.uniform(low=-1 / 2, high=1 / 2, size=2 * n + 1)\n",
    "\n",
    "    y_k_3 = np.exp(b_0 * h * k) + epsilon_3\n",
    "    x_0_line_3 = (y_k_3 * k * h).sum() / (2 * n + 1)\n",
    "    F_0_line_3 = (y_k_3 * k * h).sum() / ((k * h) ** 2).sum()\n",
    "\n",
    "    b_0_line = F_0_line_3 / x_0_line_3\n",
    "    b_list[i] = b_0_line"
   ]
  },
  {
   "cell_type": "code",
   "execution_count": 99,
   "metadata": {},
   "outputs": [],
   "source": [
    "def show_table(lst: np.typing.ArrayLike, bins: int) -> None:\n",
    "    hist, bin_edges = np.histogram(lst, bins=bins)\n",
    "\n",
    "    print(\"Интервал\\t\\tОтнос. частота\")\n",
    "    for i in range(bins):\n",
    "        print(\n",
    "            f\"[{bin_edges[i]:.4f}, {bin_edges[i + 1]:.4f})\\t{hist[i] / num_experiments}\"\n",
    "        )"
   ]
  },
  {
   "cell_type": "code",
   "execution_count": null,
   "metadata": {},
   "outputs": [
    {
     "name": "stdout",
     "output_type": "stream",
     "text": [
      "\n",
      "\n",
      "b\n"
     ]
    },
    {
     "ename": "ValueError",
     "evalue": "Too many bins for data range. Cannot create 5 finite-sized bins.",
     "output_type": "error",
     "traceback": [
      "\u001b[1;31m---------------------------------------------------------------------------\u001b[0m",
      "\u001b[1;31mValueError\u001b[0m                                Traceback (most recent call last)",
      "Cell \u001b[1;32mIn[100], line 8\u001b[0m\n\u001b[0;32m      1\u001b[0m \u001b[38;5;66;03m# print(\"sigma σ\")\u001b[39;00m\n\u001b[0;32m      2\u001b[0m \u001b[38;5;66;03m# show_table(sigma_list, bins)\u001b[39;00m\n\u001b[0;32m      3\u001b[0m \n\u001b[0;32m      4\u001b[0m \u001b[38;5;66;03m# print(\"\\n\\nr\")\u001b[39;00m\n\u001b[0;32m      5\u001b[0m \u001b[38;5;66;03m# show_table(r_list, bins)\u001b[39;00m\n\u001b[0;32m      7\u001b[0m \u001b[38;5;28mprint\u001b[39m(\u001b[38;5;124m\"\u001b[39m\u001b[38;5;130;01m\\n\u001b[39;00m\u001b[38;5;130;01m\\n\u001b[39;00m\u001b[38;5;124mb\u001b[39m\u001b[38;5;124m\"\u001b[39m)\n\u001b[1;32m----> 8\u001b[0m \u001b[43mshow_table\u001b[49m\u001b[43m(\u001b[49m\u001b[43mb_list\u001b[49m\u001b[43m,\u001b[49m\u001b[43m \u001b[49m\u001b[43mbins\u001b[49m\u001b[43m)\u001b[49m\n",
      "Cell \u001b[1;32mIn[99], line 2\u001b[0m, in \u001b[0;36mshow_table\u001b[1;34m(lst, bins)\u001b[0m\n\u001b[0;32m      1\u001b[0m \u001b[38;5;28;01mdef\u001b[39;00m\u001b[38;5;250m \u001b[39m\u001b[38;5;21mshow_table\u001b[39m(lst: np\u001b[38;5;241m.\u001b[39mtyping\u001b[38;5;241m.\u001b[39mArrayLike, bins: \u001b[38;5;28mint\u001b[39m) \u001b[38;5;241m-\u001b[39m\u001b[38;5;241m>\u001b[39m \u001b[38;5;28;01mNone\u001b[39;00m:\n\u001b[1;32m----> 2\u001b[0m     hist, bin_edges \u001b[38;5;241m=\u001b[39m \u001b[43mnp\u001b[49m\u001b[38;5;241;43m.\u001b[39;49m\u001b[43mhistogram\u001b[49m\u001b[43m(\u001b[49m\u001b[43mlst\u001b[49m\u001b[43m,\u001b[49m\u001b[43m \u001b[49m\u001b[43mbins\u001b[49m\u001b[38;5;241;43m=\u001b[39;49m\u001b[43mbins\u001b[49m\u001b[43m)\u001b[49m\n\u001b[0;32m      4\u001b[0m     \u001b[38;5;28mprint\u001b[39m(\u001b[38;5;124m\"\u001b[39m\u001b[38;5;124mИнтервал\u001b[39m\u001b[38;5;130;01m\\t\u001b[39;00m\u001b[38;5;130;01m\\t\u001b[39;00m\u001b[38;5;124mОтнос. частота\u001b[39m\u001b[38;5;124m\"\u001b[39m)\n\u001b[0;32m      5\u001b[0m     \u001b[38;5;28;01mfor\u001b[39;00m i \u001b[38;5;129;01min\u001b[39;00m \u001b[38;5;28mrange\u001b[39m(bins):\n",
      "File \u001b[1;32mc:\\Users\\vovam\\DVFU\\system_analysis\\.venv\\lib\\site-packages\\numpy\\lib\\_histograms_impl.py:796\u001b[0m, in \u001b[0;36mhistogram\u001b[1;34m(a, bins, range, density, weights)\u001b[0m\n\u001b[0;32m    691\u001b[0m \u001b[38;5;250m\u001b[39m\u001b[38;5;124mr\u001b[39m\u001b[38;5;124;03m\"\"\"\u001b[39;00m\n\u001b[0;32m    692\u001b[0m \u001b[38;5;124;03mCompute the histogram of a dataset.\u001b[39;00m\n\u001b[0;32m    693\u001b[0m \n\u001b[1;32m   (...)\u001b[0m\n\u001b[0;32m    792\u001b[0m \n\u001b[0;32m    793\u001b[0m \u001b[38;5;124;03m\"\"\"\u001b[39;00m\n\u001b[0;32m    794\u001b[0m a, weights \u001b[38;5;241m=\u001b[39m _ravel_and_check_weights(a, weights)\n\u001b[1;32m--> 796\u001b[0m bin_edges, uniform_bins \u001b[38;5;241m=\u001b[39m \u001b[43m_get_bin_edges\u001b[49m\u001b[43m(\u001b[49m\u001b[43ma\u001b[49m\u001b[43m,\u001b[49m\u001b[43m \u001b[49m\u001b[43mbins\u001b[49m\u001b[43m,\u001b[49m\u001b[43m \u001b[49m\u001b[38;5;28;43mrange\u001b[39;49m\u001b[43m,\u001b[49m\u001b[43m \u001b[49m\u001b[43mweights\u001b[49m\u001b[43m)\u001b[49m\n\u001b[0;32m    798\u001b[0m \u001b[38;5;66;03m# Histogram is an integer or a float array depending on the weights.\u001b[39;00m\n\u001b[0;32m    799\u001b[0m \u001b[38;5;28;01mif\u001b[39;00m weights \u001b[38;5;129;01mis\u001b[39;00m \u001b[38;5;28;01mNone\u001b[39;00m:\n",
      "File \u001b[1;32mc:\\Users\\vovam\\DVFU\\system_analysis\\.venv\\lib\\site-packages\\numpy\\lib\\_histograms_impl.py:453\u001b[0m, in \u001b[0;36m_get_bin_edges\u001b[1;34m(a, bins, range, weights)\u001b[0m\n\u001b[0;32m    449\u001b[0m     bin_edges \u001b[38;5;241m=\u001b[39m np\u001b[38;5;241m.\u001b[39mlinspace(\n\u001b[0;32m    450\u001b[0m         first_edge, last_edge, n_equal_bins \u001b[38;5;241m+\u001b[39m \u001b[38;5;241m1\u001b[39m,\n\u001b[0;32m    451\u001b[0m         endpoint\u001b[38;5;241m=\u001b[39m\u001b[38;5;28;01mTrue\u001b[39;00m, dtype\u001b[38;5;241m=\u001b[39mbin_type)\n\u001b[0;32m    452\u001b[0m     \u001b[38;5;28;01mif\u001b[39;00m np\u001b[38;5;241m.\u001b[39many(bin_edges[:\u001b[38;5;241m-\u001b[39m\u001b[38;5;241m1\u001b[39m] \u001b[38;5;241m>\u001b[39m\u001b[38;5;241m=\u001b[39m bin_edges[\u001b[38;5;241m1\u001b[39m:]):\n\u001b[1;32m--> 453\u001b[0m         \u001b[38;5;28;01mraise\u001b[39;00m \u001b[38;5;167;01mValueError\u001b[39;00m(\n\u001b[0;32m    454\u001b[0m             \u001b[38;5;124mf\u001b[39m\u001b[38;5;124m'\u001b[39m\u001b[38;5;124mToo many bins for data range. Cannot create \u001b[39m\u001b[38;5;132;01m{\u001b[39;00mn_equal_bins\u001b[38;5;132;01m}\u001b[39;00m\u001b[38;5;124m \u001b[39m\u001b[38;5;124m'\u001b[39m\n\u001b[0;32m    455\u001b[0m             \u001b[38;5;124mf\u001b[39m\u001b[38;5;124m'\u001b[39m\u001b[38;5;124mfinite-sized bins.\u001b[39m\u001b[38;5;124m'\u001b[39m)\n\u001b[0;32m    456\u001b[0m     \u001b[38;5;28;01mreturn\u001b[39;00m bin_edges, (first_edge, last_edge, n_equal_bins)\n\u001b[0;32m    457\u001b[0m \u001b[38;5;28;01melse\u001b[39;00m:\n",
      "\u001b[1;31mValueError\u001b[0m: Too many bins for data range. Cannot create 5 finite-sized bins."
     ]
    }
   ],
   "source": [
    "print(\"sigma σ\")\n",
    "show_table(sigma_list, bins)\n",
    "\n",
    "print(\"\\n\\nr\")\n",
    "show_table(r_list, bins)\n",
    "\n",
    "print(\"\\n\\nb\")\n",
    "show_table(b_list, bins)"
   ]
  }
 ],
 "metadata": {
  "kernelspec": {
   "display_name": ".venv",
   "language": "python",
   "name": "python3"
  },
  "language_info": {
   "codemirror_mode": {
    "name": "ipython",
    "version": 3
   },
   "file_extension": ".py",
   "mimetype": "text/x-python",
   "name": "python",
   "nbconvert_exporter": "python",
   "pygments_lexer": "ipython3",
   "version": "3.10.8"
  }
 },
 "nbformat": 4,
 "nbformat_minor": 2
}
