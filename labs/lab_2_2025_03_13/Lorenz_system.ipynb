{
 "cells": [
  {
   "cell_type": "code",
   "execution_count": 108,
   "metadata": {},
   "outputs": [],
   "source": [
    "import numpy as np\n",
    "from typing import Final"
   ]
  },
  {
   "cell_type": "code",
   "execution_count": 109,
   "metadata": {},
   "outputs": [],
   "source": [
    "num_experiments: Final[int] = 1000\n",
    "bins: Final[int] = 5"
   ]
  },
  {
   "cell_type": "code",
   "execution_count": 110,
   "metadata": {},
   "outputs": [],
   "source": [
    "x_0: Final[float] = 1\n",
    "y_0: Final[float] = 1\n",
    "z_0: Final[float] = 1\n",
    "\n",
    "sigma_0 = 1\n",
    "r_0 = 2\n",
    "b_0 = 3\n",
    "\n",
    "n: Final[int] = 1000\n",
    "\n",
    "h: Final[float] = n ** (-5 / 4)"
   ]
  },
  {
   "cell_type": "code",
   "execution_count": 111,
   "metadata": {},
   "outputs": [],
   "source": [
    "k = np.array([k for k in range(-n, n + 1)])"
   ]
  },
  {
   "cell_type": "code",
   "execution_count": 112,
   "metadata": {},
   "outputs": [],
   "source": [
    "sigma_list = np.zeros(num_experiments)\n",
    "r_list = np.zeros(num_experiments)\n",
    "b_list = np.zeros(num_experiments)\n",
    "\n",
    "for i in range(num_experiments):\n",
    "    epsilon_1 = np.random.uniform(low=-1 / 2, high=1 / 2, size=2 * n + 1)\n",
    "\n",
    "    y_k_1 = np.exp(sigma_0 * h * k) + epsilon_1\n",
    "    x_0_line_1 = (y_k_1).sum() / (2 * n + 1)\n",
    "    F_0_line_1 = (y_k_1 * k * h).sum() / ((k * h) ** 2).sum()\n",
    "\n",
    "    sigma_0_line = F_0_line_1 / x_0_line_1\n",
    "    sigma_list[i] = sigma_0_line\n",
    "    \"\"\"\n",
    "    ================\n",
    "    \"\"\"\n",
    "\n",
    "    epsilon_2 = np.random.uniform(low=-1 / 2, high=1 / 2, size=2 * n + 1)\n",
    "\n",
    "    y_k_2 = np.exp(r_0 * h * k) + epsilon_2\n",
    "    x_0_line_2 = (y_k_2).sum() / (2 * n + 1)\n",
    "    F_0_line_2 = (y_k_2 * k * h).sum() / ((k * h) ** 2).sum()\n",
    "\n",
    "    r_0_line = F_0_line_2 / x_0_line_2\n",
    "    r_list[i] = r_0_line\n",
    "    \"\"\"\n",
    "    ================\n",
    "    \"\"\"\n",
    "\n",
    "    epsilon_3 = np.random.uniform(low=-1 / 2, high=1 / 2, size=2 * n + 1)\n",
    "\n",
    "    y_k_3 = np.exp(b_0 * h * k) + epsilon_3\n",
    "    x_0_line_3 = (y_k_3).sum() / (2 * n + 1)\n",
    "    F_0_line_3 = (y_k_3 * k * h).sum() / ((k * h) ** 2).sum()\n",
    "\n",
    "    b_0_line = F_0_line_3 / x_0_line_3\n",
    "    b_list[i] = b_0_line"
   ]
  },
  {
   "cell_type": "code",
   "execution_count": 113,
   "metadata": {},
   "outputs": [],
   "source": [
    "def show_table(lst: np.typing.ArrayLike, bins: int) -> None:\n",
    "    hist, bin_edges = np.histogram(lst, bins=bins)\n",
    "\n",
    "    print(\"Интервал\\t\\tОтнос. частота\")\n",
    "    for i in range(bins):\n",
    "        print(\n",
    "            f\"[{bin_edges[i]:.4f}, {bin_edges[i + 1]:.4f})\\t{hist[i] / num_experiments}\"\n",
    "        )"
   ]
  },
  {
   "cell_type": "code",
   "execution_count": 114,
   "metadata": {},
   "outputs": [
    {
     "name": "stdout",
     "output_type": "stream",
     "text": [
      "sigma σ\n",
      "Интервал\t\tОтнос. частота\n",
      "[0.7836, 0.8614)\t0.02\n",
      "[0.8614, 0.9391)\t0.154\n",
      "[0.9391, 1.0169)\t0.443\n",
      "[1.0169, 1.0946)\t0.322\n",
      "[1.0946, 1.1724)\t0.061\n",
      "\n",
      "\n",
      "r\n",
      "Интервал\t\tОтнос. частота\n",
      "[1.7760, 1.8596)\t0.018\n",
      "[1.8596, 1.9433)\t0.256\n",
      "[1.9433, 2.0270)\t0.488\n",
      "[2.0270, 2.1107)\t0.223\n",
      "[2.1107, 2.1943)\t0.015\n",
      "\n",
      "\n",
      "b\n",
      "Интервал\t\tОтнос. частота\n",
      "[2.7588, 2.8332)\t0.045\n",
      "[2.8332, 2.9077)\t0.233\n",
      "[2.9077, 2.9821)\t0.45\n",
      "[2.9821, 3.0566)\t0.232\n",
      "[3.0566, 3.1310)\t0.04\n"
     ]
    }
   ],
   "source": [
    "print(\"sigma σ\")\n",
    "show_table(sigma_list, bins)\n",
    "\n",
    "print(\"\\n\\nr\")\n",
    "show_table(r_list, bins)\n",
    "\n",
    "print(\"\\n\\nb\")\n",
    "show_table(b_list, bins)"
   ]
  }
 ],
 "metadata": {
  "kernelspec": {
   "display_name": ".venv",
   "language": "python",
   "name": "python3"
  },
  "language_info": {
   "codemirror_mode": {
    "name": "ipython",
    "version": 3
   },
   "file_extension": ".py",
   "mimetype": "text/x-python",
   "name": "python",
   "nbconvert_exporter": "python",
   "pygments_lexer": "ipython3",
   "version": "3.10.8"
  }
 },
 "nbformat": 4,
 "nbformat_minor": 2
}
